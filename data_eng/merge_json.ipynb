{
 "cells": [
  {
   "cell_type": "markdown",
   "metadata": {},
   "source": [
    "### Merge release task sets"
   ]
  },
  {
   "cell_type": "code",
   "execution_count": null,
   "metadata": {},
   "outputs": [],
   "source": [
    "import pandas as pd\n",
    "import json\n",
    "import re"
   ]
  },
  {
   "cell_type": "code",
   "execution_count": null,
   "metadata": {},
   "outputs": [],
   "source": [
    "RELEASE_DATA = \"dez06release\"\n",
    "LANGUAGES = [\"BG\", \"EN\", \"HI\", \"PT\", \"RU\"]"
   ]
  },
  {
   "cell_type": "code",
   "execution_count": null,
   "metadata": {},
   "outputs": [],
   "source": [
    "all_data = []\n",
    "\n",
    "for language in LANGUAGES:\n",
    "    file_path = f\"../data/json/{RELEASE_DATA}_{language}_data.jsonl\"\n",
    "    with open(file_path, \"r\", encoding=\"utf-8\") as file:\n",
    "        for line in file:\n",
    "            # Parse each line as JSON\n",
    "            data = json.loads(line)\n",
    "            # Combine narratives and subnarratives, replacing spaces with underscores\n",
    "            combined_labels = [\n",
    "                f\"{narrative.replace(' ', '_')}__{subnarrative.replace(' ', '_')}\"\n",
    "                for narrative, subnarrative in zip(data[\"labels\"][\"narrative\"], data[\"labels\"][\"subnarrative\"])\n",
    "            ]\n",
    "            # Add the combined labels as a new column\n",
    "            data[\"label\"] = combined_labels\n",
    "            \n",
    "            match = re.search(r'(BG|EN|HI|PT|RU)', data[\"article_id\"])\n",
    "            data[\"language\"] = match.group(0) if match else \"Unknown\"\n",
    "            # Add the data to the list\n",
    "            all_data.append(data)\n",
    "\n",
    "\n",
    "df = pd.DataFrame(all_data)\n"
   ]
  },
  {
   "cell_type": "code",
   "execution_count": null,
   "metadata": {},
   "outputs": [],
   "source": [
    "df"
   ]
  },
  {
   "cell_type": "code",
   "execution_count": null,
   "metadata": {},
   "outputs": [],
   "source": [
    "df['label'].head()"
   ]
  },
  {
   "cell_type": "code",
   "execution_count": null,
   "metadata": {},
   "outputs": [],
   "source": [
    "len(df)"
   ]
  },
  {
   "cell_type": "code",
   "execution_count": null,
   "metadata": {},
   "outputs": [],
   "source": [
    "df['labels'][0]"
   ]
  },
  {
   "cell_type": "code",
   "execution_count": null,
   "metadata": {},
   "outputs": [],
   "source": [
    "df['label'][0]"
   ]
  },
  {
   "cell_type": "code",
   "execution_count": null,
   "metadata": {},
   "outputs": [],
   "source": [
    "df['language'].value_counts()"
   ]
  },
  {
   "cell_type": "code",
   "execution_count": null,
   "metadata": {},
   "outputs": [],
   "source": [
    "output_file_path = \"./data/merged_dataframe_with_language.csv\"\n",
    "df.to_csv(output_file_path, index=False)"
   ]
  }
 ],
 "metadata": {
  "kernelspec": {
   "display_name": "Python 3",
   "language": "python",
   "name": "python3"
  },
  "language_info": {
   "codemirror_mode": {
    "name": "ipython",
    "version": 3
   },
   "file_extension": ".py",
   "mimetype": "text/x-python",
   "name": "python",
   "nbconvert_exporter": "python",
   "pygments_lexer": "ipython3",
   "version": "3.11.6"
  }
 },
 "nbformat": 4,
 "nbformat_minor": 2
}
