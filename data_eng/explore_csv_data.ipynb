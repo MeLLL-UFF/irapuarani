{
 "cells": [
  {
   "cell_type": "code",
   "execution_count": null,
   "id": "initial_id",
   "metadata": {
    "ExecuteTime": {
     "end_time": "2024-10-26T06:14:08.564322Z",
     "start_time": "2024-10-26T06:14:08.560170Z"
    },
    "collapsed": true
   },
   "outputs": [],
   "source": [
    "import pandas as pd"
   ]
  },
  {
   "cell_type": "code",
   "execution_count": null,
   "id": "86c3f7789fb0ec95",
   "metadata": {
    "ExecuteTime": {
     "end_time": "2024-10-26T06:14:40.800021Z",
     "start_time": "2024-10-26T06:14:40.789217Z"
    }
   },
   "outputs": [],
   "source": [
    "# RELEASE_DATA = \"sep11release\"\n",
    "RELEASE_DATA = \"oct16release\"\n",
    "# Available langs: [\"BG\", \"EN\", \"HI\", \"PT\"]\n",
    "LANGUAGE_DATA = \"PT\""
   ]
  },
  {
   "cell_type": "code",
   "execution_count": null,
   "id": "63d72e810e103b47",
   "metadata": {
    "ExecuteTime": {
     "end_time": "2024-10-26T06:14:41.595289Z",
     "start_time": "2024-10-26T06:14:41.559006Z"
    }
   },
   "outputs": [],
   "source": [
    "df = pd.read_csv(f\"../data/csv/{RELEASE_DATA}_{LANGUAGE_DATA}_data.csv\")\n",
    "df"
   ]
  },
  {
   "cell_type": "code",
   "execution_count": null,
   "id": "7c013a5aa3c7fa97",
   "metadata": {
    "ExecuteTime": {
     "end_time": "2024-10-26T06:15:46.019939Z",
     "start_time": "2024-10-26T06:15:46.014534Z"
    }
   },
   "outputs": [],
   "source": [
    "df[\"article_id\"][0]"
   ]
  },
  {
   "cell_type": "code",
   "execution_count": null,
   "id": "387830e9e81b6271",
   "metadata": {
    "ExecuteTime": {
     "end_time": "2024-10-26T06:15:52.931369Z",
     "start_time": "2024-10-26T06:15:52.927200Z"
    }
   },
   "outputs": [],
   "source": [
    "df[\"content\"][0]"
   ]
  },
  {
   "cell_type": "code",
   "execution_count": null,
   "id": "8ca85cf53cc090c",
   "metadata": {
    "ExecuteTime": {
     "end_time": "2024-10-26T06:15:04.110473Z",
     "start_time": "2024-10-26T06:15:04.102166Z"
    }
   },
   "outputs": [],
   "source": [
    "df[\"narrative\"][0].split(';')"
   ]
  },
  {
   "cell_type": "code",
   "execution_count": null,
   "id": "7cc7bc1a06d9d365",
   "metadata": {
    "ExecuteTime": {
     "end_time": "2024-10-26T06:15:10.947990Z",
     "start_time": "2024-10-26T06:15:10.942643Z"
    }
   },
   "outputs": [],
   "source": [
    "df[\"narrative\"][0]"
   ]
  },
  {
   "cell_type": "code",
   "execution_count": null,
   "id": "704e72c04b5621d",
   "metadata": {
    "ExecuteTime": {
     "end_time": "2024-10-26T06:15:17.174522Z",
     "start_time": "2024-10-26T06:15:17.164120Z"
    }
   },
   "outputs": [],
   "source": [
    "df[\"narrative_subnarrative\"][0].split(';')"
   ]
  },
  {
   "cell_type": "code",
   "execution_count": null,
   "id": "c22b1c2f131819d8",
   "metadata": {
    "ExecuteTime": {
     "end_time": "2024-10-26T06:15:24.220655Z",
     "start_time": "2024-10-26T06:15:24.215945Z"
    }
   },
   "outputs": [],
   "source": [
    "df[\"narrative_subnarrative\"][0]"
   ]
  },
  {
   "cell_type": "code",
   "execution_count": null,
   "id": "1d012b521131c59f",
   "metadata": {
    "ExecuteTime": {
     "end_time": "2024-10-26T06:16:31.170361Z",
     "start_time": "2024-10-26T06:16:31.157159Z"
    }
   },
   "outputs": [],
   "source": [
    "df[\"domain\"][0]"
   ]
  }
 ],
 "metadata": {
  "kernelspec": {
   "display_name": "Python 3",
   "language": "python",
   "name": "python3"
  },
  "language_info": {
   "codemirror_mode": {
    "name": "ipython",
    "version": 2
   },
   "file_extension": ".py",
   "mimetype": "text/x-python",
   "name": "python",
   "nbconvert_exporter": "python",
   "pygments_lexer": "ipython2",
   "version": "2.7.6"
  }
 },
 "nbformat": 4,
 "nbformat_minor": 5
}
